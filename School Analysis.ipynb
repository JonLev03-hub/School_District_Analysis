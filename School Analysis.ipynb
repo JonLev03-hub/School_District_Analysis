{
 "cells": [
  {
   "cell_type": "code",
   "execution_count": 1,
   "id": "8298c184",
   "metadata": {},
   "outputs": [],
   "source": [
    "# import dependencies\n",
    "import pandas as pd\n",
    "import numpy as np\n",
    "import os"
   ]
  },
  {
   "cell_type": "code",
   "execution_count": 2,
   "id": "ad58bce5",
   "metadata": {},
   "outputs": [],
   "source": [
    "# import the data into dataframes\n",
    "student_df = pd.read_csv(\"Resources/clean_students_complete.csv\")\n",
    "school_df = pd.read_csv(\"Resources/schools_complete.csv\")\n"
   ]
  },
  {
   "cell_type": "code",
   "execution_count": 8,
   "id": "2e050e70",
   "metadata": {
    "scrolled": true
   },
   "outputs": [
    {
     "data": {
      "text/html": [
       "<div>\n",
       "<style scoped>\n",
       "    .dataframe tbody tr th:only-of-type {\n",
       "        vertical-align: middle;\n",
       "    }\n",
       "\n",
       "    .dataframe tbody tr th {\n",
       "        vertical-align: top;\n",
       "    }\n",
       "\n",
       "    .dataframe thead th {\n",
       "        text-align: right;\n",
       "    }\n",
       "</style>\n",
       "<table border=\"1\" class=\"dataframe\">\n",
       "  <thead>\n",
       "    <tr style=\"text-align: right;\">\n",
       "      <th></th>\n",
       "      <th>Unnamed: 0</th>\n",
       "      <th>Student ID</th>\n",
       "      <th>student_name</th>\n",
       "      <th>gender</th>\n",
       "      <th>grade</th>\n",
       "      <th>school_name</th>\n",
       "      <th>reading_score</th>\n",
       "      <th>math_score</th>\n",
       "      <th>School ID</th>\n",
       "      <th>type</th>\n",
       "      <th>size</th>\n",
       "      <th>budget</th>\n",
       "    </tr>\n",
       "  </thead>\n",
       "  <tbody>\n",
       "    <tr>\n",
       "      <th>0</th>\n",
       "      <td>0</td>\n",
       "      <td>0</td>\n",
       "      <td>Paul Bradley</td>\n",
       "      <td>M</td>\n",
       "      <td>9th</td>\n",
       "      <td>Huang High School</td>\n",
       "      <td>66</td>\n",
       "      <td>79</td>\n",
       "      <td>0</td>\n",
       "      <td>District</td>\n",
       "      <td>2917</td>\n",
       "      <td>1910635</td>\n",
       "    </tr>\n",
       "    <tr>\n",
       "      <th>1</th>\n",
       "      <td>1</td>\n",
       "      <td>1</td>\n",
       "      <td>Victor Smith</td>\n",
       "      <td>M</td>\n",
       "      <td>12th</td>\n",
       "      <td>Huang High School</td>\n",
       "      <td>94</td>\n",
       "      <td>61</td>\n",
       "      <td>0</td>\n",
       "      <td>District</td>\n",
       "      <td>2917</td>\n",
       "      <td>1910635</td>\n",
       "    </tr>\n",
       "    <tr>\n",
       "      <th>2</th>\n",
       "      <td>2</td>\n",
       "      <td>2</td>\n",
       "      <td>Kevin Rodriguez</td>\n",
       "      <td>M</td>\n",
       "      <td>12th</td>\n",
       "      <td>Huang High School</td>\n",
       "      <td>90</td>\n",
       "      <td>60</td>\n",
       "      <td>0</td>\n",
       "      <td>District</td>\n",
       "      <td>2917</td>\n",
       "      <td>1910635</td>\n",
       "    </tr>\n",
       "    <tr>\n",
       "      <th>3</th>\n",
       "      <td>3</td>\n",
       "      <td>3</td>\n",
       "      <td>Richard Scott</td>\n",
       "      <td>M</td>\n",
       "      <td>12th</td>\n",
       "      <td>Huang High School</td>\n",
       "      <td>67</td>\n",
       "      <td>58</td>\n",
       "      <td>0</td>\n",
       "      <td>District</td>\n",
       "      <td>2917</td>\n",
       "      <td>1910635</td>\n",
       "    </tr>\n",
       "    <tr>\n",
       "      <th>4</th>\n",
       "      <td>4</td>\n",
       "      <td>4</td>\n",
       "      <td>Bonnie Ray</td>\n",
       "      <td>F</td>\n",
       "      <td>9th</td>\n",
       "      <td>Huang High School</td>\n",
       "      <td>97</td>\n",
       "      <td>84</td>\n",
       "      <td>0</td>\n",
       "      <td>District</td>\n",
       "      <td>2917</td>\n",
       "      <td>1910635</td>\n",
       "    </tr>\n",
       "    <tr>\n",
       "      <th>...</th>\n",
       "      <td>...</td>\n",
       "      <td>...</td>\n",
       "      <td>...</td>\n",
       "      <td>...</td>\n",
       "      <td>...</td>\n",
       "      <td>...</td>\n",
       "      <td>...</td>\n",
       "      <td>...</td>\n",
       "      <td>...</td>\n",
       "      <td>...</td>\n",
       "      <td>...</td>\n",
       "      <td>...</td>\n",
       "    </tr>\n",
       "    <tr>\n",
       "      <th>95</th>\n",
       "      <td>95</td>\n",
       "      <td>95</td>\n",
       "      <td>Kevin Martinez</td>\n",
       "      <td>M</td>\n",
       "      <td>11th</td>\n",
       "      <td>Huang High School</td>\n",
       "      <td>89</td>\n",
       "      <td>58</td>\n",
       "      <td>0</td>\n",
       "      <td>District</td>\n",
       "      <td>2917</td>\n",
       "      <td>1910635</td>\n",
       "    </tr>\n",
       "    <tr>\n",
       "      <th>96</th>\n",
       "      <td>96</td>\n",
       "      <td>96</td>\n",
       "      <td>Jessica Smith</td>\n",
       "      <td>F</td>\n",
       "      <td>9th</td>\n",
       "      <td>Huang High School</td>\n",
       "      <td>77</td>\n",
       "      <td>72</td>\n",
       "      <td>0</td>\n",
       "      <td>District</td>\n",
       "      <td>2917</td>\n",
       "      <td>1910635</td>\n",
       "    </tr>\n",
       "    <tr>\n",
       "      <th>97</th>\n",
       "      <td>97</td>\n",
       "      <td>97</td>\n",
       "      <td>Dawn Trujillo</td>\n",
       "      <td>F</td>\n",
       "      <td>11th</td>\n",
       "      <td>Huang High School</td>\n",
       "      <td>82</td>\n",
       "      <td>87</td>\n",
       "      <td>0</td>\n",
       "      <td>District</td>\n",
       "      <td>2917</td>\n",
       "      <td>1910635</td>\n",
       "    </tr>\n",
       "    <tr>\n",
       "      <th>98</th>\n",
       "      <td>98</td>\n",
       "      <td>98</td>\n",
       "      <td>Virginia Ramirez</td>\n",
       "      <td>F</td>\n",
       "      <td>10th</td>\n",
       "      <td>Huang High School</td>\n",
       "      <td>99</td>\n",
       "      <td>89</td>\n",
       "      <td>0</td>\n",
       "      <td>District</td>\n",
       "      <td>2917</td>\n",
       "      <td>1910635</td>\n",
       "    </tr>\n",
       "    <tr>\n",
       "      <th>99</th>\n",
       "      <td>99</td>\n",
       "      <td>99</td>\n",
       "      <td>Marc Hernandez</td>\n",
       "      <td>M</td>\n",
       "      <td>10th</td>\n",
       "      <td>Huang High School</td>\n",
       "      <td>87</td>\n",
       "      <td>63</td>\n",
       "      <td>0</td>\n",
       "      <td>District</td>\n",
       "      <td>2917</td>\n",
       "      <td>1910635</td>\n",
       "    </tr>\n",
       "  </tbody>\n",
       "</table>\n",
       "<p>100 rows × 12 columns</p>\n",
       "</div>"
      ],
      "text/plain": [
       "    Unnamed: 0  Student ID      student_name gender grade        school_name  \\\n",
       "0            0           0      Paul Bradley      M   9th  Huang High School   \n",
       "1            1           1      Victor Smith      M  12th  Huang High School   \n",
       "2            2           2   Kevin Rodriguez      M  12th  Huang High School   \n",
       "3            3           3     Richard Scott      M  12th  Huang High School   \n",
       "4            4           4        Bonnie Ray      F   9th  Huang High School   \n",
       "..         ...         ...               ...    ...   ...                ...   \n",
       "95          95          95    Kevin Martinez      M  11th  Huang High School   \n",
       "96          96          96     Jessica Smith      F   9th  Huang High School   \n",
       "97          97          97     Dawn Trujillo      F  11th  Huang High School   \n",
       "98          98          98  Virginia Ramirez      F  10th  Huang High School   \n",
       "99          99          99    Marc Hernandez      M  10th  Huang High School   \n",
       "\n",
       "    reading_score  math_score  School ID      type  size   budget  \n",
       "0              66          79          0  District  2917  1910635  \n",
       "1              94          61          0  District  2917  1910635  \n",
       "2              90          60          0  District  2917  1910635  \n",
       "3              67          58          0  District  2917  1910635  \n",
       "4              97          84          0  District  2917  1910635  \n",
       "..            ...         ...        ...       ...   ...      ...  \n",
       "95             89          58          0  District  2917  1910635  \n",
       "96             77          72          0  District  2917  1910635  \n",
       "97             82          87          0  District  2917  1910635  \n",
       "98             99          89          0  District  2917  1910635  \n",
       "99             87          63          0  District  2917  1910635  \n",
       "\n",
       "[100 rows x 12 columns]"
      ]
     },
     "execution_count": 8,
     "metadata": {},
     "output_type": "execute_result"
    }
   ],
   "source": [
    "# merge the datasets\n",
    "complete_df = pd.merge(student_df,school_df,on=[\"school_name\" , \"school_name\"])\n",
    "complete_df.head(100)"
   ]
  },
  {
   "cell_type": "code",
   "execution_count": 4,
   "id": "eff6963b",
   "metadata": {},
   "outputs": [
    {
     "name": "stdout",
     "output_type": "stream",
     "text": [
      "39170\n",
      "\n",
      " Total Number of Schools :\n",
      "15\n"
     ]
    }
   ],
   "source": [
    "# get total count of students\n",
    "student_total = complete_df[\"Student ID\"].count()\n",
    "print(student_total)\n",
    "# get total number of schools\n",
    "print(f\"\\n Total Number of Schools :\")\n",
    "print(school_df[\"school_name\"].count())"
   ]
  },
  {
   "cell_type": "code",
   "execution_count": 5,
   "id": "a47bb351",
   "metadata": {},
   "outputs": [
    {
     "data": {
      "text/plain": [
       "24649428"
      ]
     },
     "execution_count": 5,
     "metadata": {},
     "output_type": "execute_result"
    }
   ],
   "source": [
    "# calculate the total Budget\n",
    "school_df[\"budget\"].sum()"
   ]
  },
  {
   "cell_type": "code",
   "execution_count": 6,
   "id": "ce38c7e2",
   "metadata": {},
   "outputs": [
    {
     "name": "stdout",
     "output_type": "stream",
     "text": [
      "The average reading score is 81.87784018381414\n",
      "The average reading score is 78.98537145774827\n"
     ]
    }
   ],
   "source": [
    "#calculate the average scores\n",
    "avg_reading = complete_df[\"reading_score\"].mean()\n",
    "print(f\"The average reading score is {avg_reading}\")\n",
    "avg_math = complete_df[\"math_score\"].mean()\n",
    "print(f\"The average reading score is {avg_math}\")"
   ]
  },
  {
   "cell_type": "code",
   "execution_count": 7,
   "id": "6098da24",
   "metadata": {},
   "outputs": [
    {
     "name": "stdout",
     "output_type": "stream",
     "text": [
      "Math had a 0.7 pass rate\n",
      "reading had a 0.9 pass rate\n",
      "the % of students who passed both 0.7 \n"
     ]
    }
   ],
   "source": [
    "# count the % of students passing reading and math\n",
    "reading_pass = complete_df[\"reading_score\"] >= 70\n",
    "math_pass = complete_df[\"math_score\"] >= 70\n",
    "math_reading_pass = math_pass & reading_pass\n",
    "print(f\"Math had a {math_pass.sum()/student_total:0.1f} pass rate\")\n",
    "print(f\"reading had a {reading_pass.sum()/student_total:0.1f} pass rate\")\n",
    "print(f\"the % of students who passed both {math_reading_pass.sum()/student_total:0.1f} \")"
   ]
  },
  {
   "cell_type": "code",
   "execution_count": 11,
   "id": "49cb7bfd",
   "metadata": {},
   "outputs": [
    {
     "data": {
      "text/plain": [
       "District    26976\n",
       "Charter     12194\n",
       "Name: type, dtype: int64"
      ]
     },
     "execution_count": 11,
     "metadata": {},
     "output_type": "execute_result"
    }
   ],
   "source": [
    "#Create District and CharterStatistics\n",
    "complete_df[\"type\"].value_counts()"
   ]
  },
  {
   "cell_type": "code",
   "execution_count": 16,
   "id": "2d708c1c",
   "metadata": {},
   "outputs": [
    {
     "data": {
      "text/html": [
       "<div>\n",
       "<style scoped>\n",
       "    .dataframe tbody tr th:only-of-type {\n",
       "        vertical-align: middle;\n",
       "    }\n",
       "\n",
       "    .dataframe tbody tr th {\n",
       "        vertical-align: top;\n",
       "    }\n",
       "\n",
       "    .dataframe thead th {\n",
       "        text-align: right;\n",
       "    }\n",
       "</style>\n",
       "<table border=\"1\" class=\"dataframe\">\n",
       "  <thead>\n",
       "    <tr style=\"text-align: right;\">\n",
       "      <th></th>\n",
       "      <th>Unnamed: 0</th>\n",
       "      <th>Student ID</th>\n",
       "      <th>reading_score</th>\n",
       "      <th>math_score</th>\n",
       "      <th>School ID</th>\n",
       "      <th>size</th>\n",
       "      <th>budget</th>\n",
       "    </tr>\n",
       "    <tr>\n",
       "      <th>type</th>\n",
       "      <th></th>\n",
       "      <th></th>\n",
       "      <th></th>\n",
       "      <th></th>\n",
       "      <th></th>\n",
       "      <th></th>\n",
       "      <th></th>\n",
       "    </tr>\n",
       "  </thead>\n",
       "  <tbody>\n",
       "    <tr>\n",
       "      <th>Charter</th>\n",
       "      <td>19438.475398</td>\n",
       "      <td>19438.475398</td>\n",
       "      <td>83.902821</td>\n",
       "      <td>83.406183</td>\n",
       "      <td>6.964163</td>\n",
       "      <td>1717.352468</td>\n",
       "      <td>1.024543e+06</td>\n",
       "    </tr>\n",
       "    <tr>\n",
       "      <th>District</th>\n",
       "      <td>19650.507711</td>\n",
       "      <td>19650.507711</td>\n",
       "      <td>80.962485</td>\n",
       "      <td>76.987026</td>\n",
       "      <td>6.984505</td>\n",
       "      <td>4063.261195</td>\n",
       "      <td>2.611175e+06</td>\n",
       "    </tr>\n",
       "  </tbody>\n",
       "</table>\n",
       "</div>"
      ],
      "text/plain": [
       "            Unnamed: 0    Student ID  reading_score  math_score  School ID  \\\n",
       "type                                                                         \n",
       "Charter   19438.475398  19438.475398      83.902821   83.406183   6.964163   \n",
       "District  19650.507711  19650.507711      80.962485   76.987026   6.984505   \n",
       "\n",
       "                 size        budget  \n",
       "type                                 \n",
       "Charter   1717.352468  1.024543e+06  \n",
       "District  4063.261195  2.611175e+06  "
      ]
     },
     "execution_count": 16,
     "metadata": {},
     "output_type": "execute_result"
    }
   ],
   "source": [
    "grouped_df = complete_df.groupby(\"type\")\n",
    "grouped_df.mean()"
   ]
  },
  {
   "cell_type": "code",
   "execution_count": 22,
   "id": "f078f01f",
   "metadata": {},
   "outputs": [
    {
     "data": {
      "text/plain": [
       "15"
      ]
     },
     "execution_count": 22,
     "metadata": {},
     "output_type": "execute_result"
    }
   ],
   "source": [
    "len(complete_df[\"school_name\"].unique())"
   ]
  },
  {
   "cell_type": "code",
   "execution_count": null,
   "id": "bfe9e7db",
   "metadata": {},
   "outputs": [],
   "source": []
  }
 ],
 "metadata": {
  "kernelspec": {
   "display_name": "PythonData",
   "language": "python",
   "name": "pythondata"
  },
  "language_info": {
   "codemirror_mode": {
    "name": "ipython",
    "version": 3
   },
   "file_extension": ".py",
   "mimetype": "text/x-python",
   "name": "python",
   "nbconvert_exporter": "python",
   "pygments_lexer": "ipython3",
   "version": "3.8.8"
  }
 },
 "nbformat": 4,
 "nbformat_minor": 5
}
